{
 "cells": [
  {
   "cell_type": "code",
   "execution_count": 9,
   "metadata": {},
   "outputs": [],
   "source": [
    "\n",
    "class Animal():\n",
    " #construindo  classe\n",
    " #init underline duplo\n",
    "    def __init__( self ,  name, weight, color):\n",
    " #atributos \n",
    "       self.nome = name\n",
    "       self.peso = weight\n",
    "       self.corDoPelo = color\n",
    "\n",
    "    #self. para reltilizar o codigo no sistema\n",
    "\n",
    "#%s tras o que esta em parenteses\n",
    "#\\n quebra linha\n",
    "    def imprimirDados(self):\n",
    "     return('Nome: %s \\nPeso: %s \\nCorDoPelo: %s' %(self.nome, self.peso, self.corDoPelo))\n",
    "\n",
    "\n",
    "    def latir(self, barulho):\n",
    "     print(barulho)"
   ]
  },
  {
   "cell_type": "code",
   "execution_count": 11,
   "metadata": {},
   "outputs": [
    {
     "name": "stdout",
     "output_type": "stream",
     "text": [
      "Nome: Ricardo \n",
      "Peso: 7.9 \n",
      "CorDoPelo: Preto\n",
      "Au, Au!\n",
      "Nome: Italo \n",
      "Peso: 4.5 \n",
      "CorDoPelo: Caramelo\n",
      "Miau!\n"
     ]
    }
   ],
   "source": [
    "#instanciando um objeto cachorro\n",
    "caozinho = Animal('Ricardo', 7.9, 'Preto')\n",
    "gato = Animal ('Italo', 4.5, 'Caramelo')\n",
    "\n",
    "#Chamando o método do objeto criado \n",
    "print(caozinho. imprimirDados())\n",
    "caozinho.latir('Au, Au!')\n",
    "\n",
    "print(gato.imprimirDados())\n",
    "gato.latir('Miau!')\n",
    "\n"
   ]
  },
  {
   "cell_type": "code",
   "execution_count": 12,
   "metadata": {},
   "outputs": [],
   "source": [
    "#criando classe chamada livro\n",
    "\n",
    "class livro():\n",
    "\n",
    "     # Este método vai inicializar cada objeto criando a aprtir desta classe \n",
    "    # o nome deste método e __init__\n",
    "    # (self) e uma referencia a cada atributo de um objeto criado a aprtir desta\n",
    "  def __init__(self):\n",
    "    self.titulo = \"O monge e o Executivo\"\n",
    "    self.isbn = 9988888\n",
    "    print('Contrutor chamdo para criar um objeto dessa classe')\n",
    "\n",
    "\n",
    "  def imprime (self):\n",
    "    print('Foi criado o livro %s e ISBN %d' %(self.titulo, self.isbn))"
   ]
  },
  {
   "cell_type": "code",
   "execution_count": 13,
   "metadata": {},
   "outputs": [
    {
     "name": "stdout",
     "output_type": "stream",
     "text": [
      "Contrutor chamdo para criar um objeto dessa classe\n"
     ]
    }
   ],
   "source": [
    "livro1 = livro()\n",
    "\n",
    "class Livro():\n",
    "    def __init__(self, titulo, isbn):\n",
    "       self.titulo = titulo\n",
    "       self.isbn = isbn\n",
    "       print('Construtor chmado para criar um objeto desta classe ')\n",
    "\n",
    "\n",
    "    def imprime(self, titulo, isbn):\n",
    "     print('Este e o livro %s e ISBN %d' %(titulo,isbn))"
   ]
  },
  {
   "cell_type": "code",
   "execution_count": 14,
   "metadata": {},
   "outputs": [
    {
     "name": "stdout",
     "output_type": "stream",
     "text": [
      "Construtor chmado para criar um objeto desta classe \n"
     ]
    },
    {
     "data": {
      "text/plain": [
       "'A menina que roubava livro '"
      ]
     },
     "execution_count": 14,
     "metadata": {},
     "output_type": "execute_result"
    }
   ],
   "source": [
    "Livro2 = Livro('A menina que roubava livro ', 7685443462)\n",
    "Livro2.titulo"
   ]
  }
 ],
 "metadata": {
  "language_info": {
   "name": "python"
  }
 },
 "nbformat": 4,
 "nbformat_minor": 2
}
