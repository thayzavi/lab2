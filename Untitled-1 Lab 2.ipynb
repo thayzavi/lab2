{
 "cells": [
  {
   "cell_type": "code",
   "execution_count": 18,
   "metadata": {},
   "outputs": [],
   "source": [
    "numero1 = int(input(\"Digite o primeiro número inteiro:\"))\n",
    "numero2 = int(input(\"Digite o segundo número inteiro : \"))\n",
    "numero3 = float(input(\"Digite um número real: \"))"
   ]
  },
  {
   "cell_type": "code",
   "execution_count": 19,
   "metadata": {},
   "outputs": [
    {
     "name": "stdout",
     "output_type": "stream",
     "text": [
      "1\n",
      "2\n",
      "3.0\n"
     ]
    }
   ],
   "source": [
    "print(numero1)\n",
    "print(numero2)\n",
    "print(numero3)"
   ]
  },
  {
   "cell_type": "code",
   "execution_count": 20,
   "metadata": {},
   "outputs": [
    {
     "data": {
      "text/plain": [
       "2.0"
      ]
     },
     "execution_count": 20,
     "metadata": {},
     "output_type": "execute_result"
    }
   ],
   "source": [
    "(2 * numero1) * (numero2 / 2)"
   ]
  },
  {
   "cell_type": "code",
   "execution_count": 21,
   "metadata": {},
   "outputs": [
    {
     "data": {
      "text/plain": [
       "(6.0, 27.0)"
      ]
     },
     "execution_count": 21,
     "metadata": {},
     "output_type": "execute_result"
    }
   ],
   "source": [
    "(3 * numero1) + numero3 , (numero3 ** 3)"
   ]
  },
  {
   "cell_type": "code",
   "execution_count": 22,
   "metadata": {},
   "outputs": [
    {
     "name": "stdout",
     "output_type": "stream",
     "text": [
      "2.0\n"
     ]
    }
   ],
   "source": [
    "numero1 = float(input(\"Digite um número:\"))\n",
    "numero2 = float(input(\"Digite outro número: \"))\n",
    "if (numero1 > numero2):\n",
    "    print(numero1)\n",
    "else: \n",
    "    print(numero2)"
   ]
  },
  {
   "cell_type": "code",
   "execution_count": 23,
   "metadata": {},
   "outputs": [
    {
     "name": "stdout",
     "output_type": "stream",
     "text": [
      "Positivo\n"
     ]
    }
   ],
   "source": [
    "a = float(input(\"Digite um número: \"))\n",
    "if (a >= 0):\n",
    "   print(\"Positivo\")\n",
    "else: \n",
    "   print(\"Negative\")   \n"
   ]
  },
  {
   "cell_type": "code",
   "execution_count": 24,
   "metadata": {},
   "outputs": [],
   "source": [
    "nota1 = float(input(\"Digite a primrira nota: \"))\n",
    "nota2 = float(input(\"Digite a segunda nota: \"))"
   ]
  },
  {
   "cell_type": "code",
   "execution_count": 25,
   "metadata": {},
   "outputs": [
    {
     "name": "stdout",
     "output_type": "stream",
     "text": [
      "9.0\n",
      "7.0\n"
     ]
    }
   ],
   "source": [
    "print(nota1)\n",
    "print(nota2)"
   ]
  },
  {
   "cell_type": "code",
   "execution_count": 26,
   "metadata": {},
   "outputs": [],
   "source": [
    "media = (nota1 + nota2) / 2"
   ]
  },
  {
   "cell_type": "code",
   "execution_count": 28,
   "metadata": {},
   "outputs": [
    {
     "name": "stdout",
     "output_type": "stream",
     "text": [
      "8.0\n"
     ]
    }
   ],
   "source": [
    "print(media)"
   ]
  },
  {
   "cell_type": "code",
   "execution_count": 27,
   "metadata": {},
   "outputs": [
    {
     "name": "stdout",
     "output_type": "stream",
     "text": [
      "Aluno aprovado média: 8.0\n"
     ]
    }
   ],
   "source": [
    "if media >= 7:\n",
    "    print(\"Aluno aprovado média:\", media) \n",
    "else:\n",
    "    print(\"Aluno reprovado. Média\", media)"
   ]
  },
  {
   "cell_type": "code",
   "execution_count": 2,
   "metadata": {},
   "outputs": [
    {
     "name": "stdout",
     "output_type": "stream",
     "text": [
      "15.0\n"
     ]
    }
   ],
   "source": [
    "num1 = float(input(\"Digite o primeiro número: \"))\n",
    "num2 = float(input(\"Digite o segundo número: \"))\n",
    "num3 = float(input(\"Digite o terceiro número: \"))\n",
    "\n",
    "maior = max(num1, num2, num3)\n",
    "\n",
    "print(maior)\n"
   ]
  },
  {
   "cell_type": "code",
   "execution_count": 3,
   "metadata": {},
   "outputs": [
    {
     "name": "stdout",
     "output_type": "stream",
     "text": [
      "5.0\n",
      "10.0\n",
      "15.0\n"
     ]
    }
   ],
   "source": [
    "print(num1)\n",
    "print(num2)\n",
    "print(num3)"
   ]
  },
  {
   "cell_type": "code",
   "execution_count": 4,
   "metadata": {},
   "outputs": [
    {
     "name": "stdout",
     "output_type": "stream",
     "text": [
      "10.0\n"
     ]
    }
   ],
   "source": [
    "num1 = float(input(\"Digite um número: \"))\n",
    "num2 = float(input(\"Digite o segundo número: \"))\n",
    "if(num1 > num2):\n",
    "    print(num1)\n",
    "else:\n",
    "    print(num2)    "
   ]
  }
 ],
 "metadata": {
  "kernelspec": {
   "display_name": "Python 3",
   "language": "python",
   "name": "python3"
  },
  "language_info": {
   "codemirror_mode": {
    "name": "ipython",
    "version": 3
   },
   "file_extension": ".py",
   "mimetype": "text/x-python",
   "name": "python",
   "nbconvert_exporter": "python",
   "pygments_lexer": "ipython3",
   "version": "3.12.3"
  }
 },
 "nbformat": 4,
 "nbformat_minor": 2
}
