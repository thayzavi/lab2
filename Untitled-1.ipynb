{
 "cells": [
  {
   "cell_type": "code",
   "execution_count": 118,
   "metadata": {},
   "outputs": [
    {
     "name": "stdout",
     "output_type": "stream",
     "text": [
      "A letra 'a' é uma vogal.\n"
     ]
    }
   ],
   "source": [
    "#1\n",
    "letra = input(\"Digite uma letra: \")\n",
    "\n",
    "if letra and len(letra) == 1:\n",
    "    if letra in 'aeiou':\n",
    "        print(f\"A letra '{letra}' é uma vogal.\")\n",
    "    else:\n",
    "        print(f\"A letra '{letra}' é uma consoante.\")\n",
    "    "
   ]
  },
  {
   "cell_type": "code",
   "execution_count": 4,
   "metadata": {},
   "outputs": [
    {
     "name": "stdout",
     "output_type": "stream",
     "text": [
      "Você deve comprar o terceiro produto.\n"
     ]
    }
   ],
   "source": [
    "\n",
    "#2\n",
    "# insira os preços dos produtos\n",
    "produto1 = float(input(\"Digite o preço do primeiro produto: R$ \"))\n",
    "produto2 = float(input(\"Digite o preço do segundo produto: R$ \"))\n",
    "produto3 = float(input(\"Digite o preço do terceiro produto: R$ \"))\n",
    "\n",
    "# Verifica qual produto é o mais barato\n",
    "if produto1 <= produto2 and produto1 <= produto3:\n",
    "    print(\"Você deve comprar o primeiro produto.\")\n",
    "elif produto2 <= produto1 and produto2 <= produto3:\n",
    "    print(\"Você deve comprar o segundo produto.\")\n",
    "else:\n",
    "    print(\"Você deve comprar o terceiro produto.\")\n",
    "    #valores dos produtos\n",
    "print(produto1)\n",
    "print(produto2)\n",
    "print(produto3)\n"
   ]
  },
  {
   "cell_type": "code",
   "execution_count": 116,
   "metadata": {},
   "outputs": [
    {
     "name": "stdout",
     "output_type": "stream",
     "text": [
      "Os números em ordem decrescente são: [15.0, 10.0, 5.0]\n"
     ]
    }
   ],
   "source": [
    "#3\n",
    "numero1 = float(input(\"Digite o primeiro número: \"))\n",
    "numero2 = float(input(\"Digite o segundo número: \"))\n",
    "numero3 = float(input(\"Digite o terceiro número: \"))\n",
    "\n",
    "#Lista de numeros inseridos \n",
    "numeros = [numero1, numero2, numero3]\n",
    "#sorted serever para colocar listas ounconjustos em ordem crescente ou decrescente\n",
    "numeros_ordem_decrescente = sorted(numeros, reverse=True)\n",
    "print(\"Os números em ordem decrescente são:\", numeros_ordem_decrescente)"
   ]
  },
  {
   "cell_type": "code",
   "execution_count": 115,
   "metadata": {},
   "outputs": [
    {
     "name": "stdout",
     "output_type": "stream",
     "text": [
      "Bom dia! o sol ja nasceu la na fazendinha\n"
     ]
    }
   ],
   "source": [
    "\n",
    "#4\n",
    "#Digite seu turno \n",
    "turno = input(\"Em que turno você estuda? Digite M para matutino, V para vespertino ou N para noturno: \")\n",
    "#Verificar turno e imprimir mensagem\n",
    "if turno == 'm':\n",
    "    print(\"Bom dia! o sol ja nasceu la na fazendinha\")\n",
    "elif turno == 'v':\n",
    "    print(\"Boa tarde!\")\n",
    "elif turno == 'n':\n",
    "    print(\"Boa noite!\")\n",
    "else:\n",
    "    print(\"Valor inválido. Por favor, digite M, V ou N para indicar o turno.\")"
   ]
  },
  {
   "cell_type": "code",
   "execution_count": 12,
   "metadata": {},
   "outputs": [
    {
     "name": "stdout",
     "output_type": "stream",
     "text": [
      "Sábado\n"
     ]
    }
   ],
   "source": [
    "#5\n",
    "\n",
    "#Digite o dia \n",
    "numero = int(input(\"Digite um número correspondente ao dia da semana (1-Domingo, 2-Segunda, 3-Terça, 4-Quarta, 5-Quinta, 6-Sexta, 7-Sábado): \"))\n",
    "\n",
    "if numero == 1:\n",
    "    print(\"Domingo\")\n",
    "elif numero == 2:\n",
    "    print(\"Segunda-feira\")\n",
    "elif numero == 3:\n",
    "    print(\"Terça-feira\")\n",
    "elif numero == 4:\n",
    "    print(\"Quarta-feira\")\n",
    "elif numero == 5:\n",
    "    print(\"Quinta-feira\")\n",
    "elif numero == 6:\n",
    "    print(\"Sexta-feira\")\n",
    "elif numero == 7:\n",
    "    print(\"Sábado\")\n",
    "else:\n",
    "    print(\"Valor inválido. Por favor, digite um número entre 1 e 7 para representar o dia da semana.\")"
   ]
  },
  {
   "cell_type": "code",
   "execution_count": 1,
   "metadata": {},
   "outputs": [
    {
     "name": "stdout",
     "output_type": "stream",
     "text": [
      "Nota 2: 9.0\n",
      "Média: 9.5\n",
      "Conceito: A\n",
      "APROVADO\n"
     ]
    }
   ],
   "source": [
    "\n",
    "#6\n",
    "\n",
    "#nota\n",
    "nota1 = float(input(\"Digite a primeira nota parcial: \"))\n",
    "nota2 = float(input(\"Digite a segunda nota parcial: \"))\n",
    "\n",
    "\n",
    "media = (nota1 + nota2) / 2\n",
    "\n",
    "if media >= 9.0:\n",
    "    conceito = \"A\"\n",
    "elif media >= 7.5:\n",
    "    conceito = \"B\"\n",
    "elif media >= 6.0:\n",
    "    conceito = \"C\"\n",
    "elif media >= 4.0:\n",
    "    conceito = \"D\"\n",
    "else:\n",
    "    conceito = \"E\"\n",
    "\n",
    "    print(f\"Nota 1: {nota1}\")\n",
    "print(f\"Nota 2: {nota2}\")\n",
    "print(f\"Média: {media}\")\n",
    "print(f\"Conceito: {conceito}\")\n",
    "\n",
    "if conceito in (\"A\", \"B\", \"C\"):\n",
    "    print(\"APROVADO\")\n",
    "else:\n",
    "    print(\"REPROVADO\")"
   ]
  },
  {
   "cell_type": "code",
   "execution_count": 20,
   "metadata": {},
   "outputs": [
    {
     "name": "stdout",
     "output_type": "stream",
     "text": [
      "O ano 2025 não é bissexto.\n"
     ]
    }
   ],
   "source": [
    "\n",
    "#7\n",
    "\n",
    "#Digite o ano \n",
    "ano = int(input(\"Digite um ano: \"))\n",
    "\n",
    "# ano % 100 != 0: Esta parte verifica se o ano não é divisível por 100. \n",
    "if (ano % 4 == 0 and ano % 100 != 0) :\n",
    "    print(f\"O ano {ano} é bissexto.\")\n",
    "else:\n",
    "    print(f\"O ano {ano} não é bissexto.\")\n"
   ]
  },
  {
   "cell_type": "code",
   "execution_count": 8,
   "metadata": {},
   "outputs": [
    {
     "name": "stdout",
     "output_type": "stream",
     "text": [
      "O resultado da operação é: 2.5\n",
      "O primeiro número ( 25.0 ) é  impar , positivo e  inteiro .\n",
      "O segundo número ( 10.0 ) é  par , positivo e  inteiro .\n"
     ]
    }
   ],
   "source": [
    "\n",
    "#8\n",
    "\n",
    "num1 = float(input(\"Digite o primeiro número: \"))\n",
    "num2 = float(input(\"Digite o segundo número: \"))\n",
    "operacao = input(\"Digite a operação: (+, -, *, /, **)\")\n",
    "\n",
    "# par ou impar?\n",
    "\n",
    "if num1 % 2 == 0: \n",
    "    num1_Tipo=\"par\"\n",
    "else:\n",
    "    num1_Tipo = \"impar\"\n",
    "    \n",
    "if num2 % 2 == 0:\n",
    "    num2_Tipo=\"par\"\n",
    "else:\n",
    "    num2_Tipo = \"impar\"\n",
    "    \n",
    "#positivo ou negativo?\n",
    "\n",
    "if num1 >= 0: \n",
    " num1_Sinal = \"positivo\"\n",
    "else:\n",
    "    num1_Sinal = \"negativo\"\n",
    "    \n",
    "\n",
    "if num2 >= 0:\n",
    " num2_Sinal = \"positivo\"\n",
    "else:\n",
    "    num2_Sinal = \"negativo\"\n",
    "    \n",
    "    \n",
    "    #inteiro ou decimal?\n",
    "if num1 % 1 == 0: \n",
    "    num1_Inteiro = \"inteiro\"\n",
    "else:\n",
    "    num1_Inteiro = \"decimal\"\n",
    "\n",
    "if num2 % 1 == 0:\n",
    "    num2_Inteiro = \"inteiro\"\n",
    "else:\n",
    "    num2_Inteiro = \"decimal\"\n",
    "    \n",
    "#as operações \n",
    "if operacao == \"+\":\n",
    "    resultado = num1 + num2\n",
    "elif operacao == \"-\":\n",
    "    resultado = num1 - num2\n",
    "elif operacao == \"*\":\n",
    "    resultado = num1 * num2\n",
    "elif operacao == \"/\":\n",
    "    resultado = num1 / num2\n",
    "elif operacao == \"**\":\n",
    "    resultado = num1 ** num2\n",
    "else:\n",
    "    print(\"Operação inválida.\")\n",
    "    \n",
    "    #O resultado\n",
    "\n",
    "print(\"O resultado da operação é:\", resultado)\n",
    "print(\"O primeiro número (\",num1,\") é \",num1_Tipo,\",\", num1_Sinal, \"e \",num1_Inteiro,\".\")\n",
    "print(\"O segundo número (\",num2,\") é \",num2_Tipo,\",\", num2_Sinal, \"e \",num2_Inteiro,\".\")\n"
   ]
  },
  {
   "cell_type": "code",
   "execution_count": 4,
   "metadata": {},
   "outputs": [
    {
     "name": "stdout",
     "output_type": "stream",
     "text": [
      "Sua idade é 150.\n"
     ]
    }
   ],
   "source": [
    "\n",
    "# Verifica se a idade está dentro do intervalo aceitável\n",
    "idade = int(input(\"Digite a idade: \"))\n",
    "if idade >= 0 and idade <= 150:\n",
    "    print(f\"Sua idade é {idade}.\")\n",
    "else:\n",
    "    print(\"Valor inválido. A idade deve estar entre 0 e 150 anos.\")\n"
   ]
  },
  {
   "cell_type": "code",
   "execution_count": 5,
   "metadata": {},
   "outputs": [
    {
     "name": "stdout",
     "output_type": "stream",
     "text": [
      "10.0\n",
      "21.0\n",
      "20.0\n",
      "20.0\n",
      "20.0\n",
      "A soma dos números é: 91.0\n",
      "A média dos números é: 18.2\n"
     ]
    }
   ],
   "source": [
    "#9\n",
    "#  lista vazia para armazenar os números\n",
    "numeros = []\n",
    "#Digite o número \n",
    "for i in range(5):\n",
    "    numero = float(input(\"Digite o número: \"))\n",
    "    numeros.append(numero)\n",
    "    print(numero)\n",
    "\n",
    "#Soma dos número\n",
    "soma = sum(numeros)\n",
    "\n",
    "media = soma / len(numeros)\n",
    "\n",
    "print(f\"A soma dos números é: {soma}\")\n",
    "print(f\"A média dos números é: {media}\")\n"
   ]
  },
  {
   "cell_type": "code",
   "execution_count": 36,
   "metadata": {},
   "outputs": [
    {
     "name": "stdout",
     "output_type": "stream",
     "text": [
      "12 não é um número primo \n"
     ]
    }
   ],
   "source": [
    "\n",
    "#10\n",
    "numero = int(input(\"digite um número inteiro: \"))\n",
    "print(numero)\n",
    "\n",
    "divisores = 0\n",
    "\n",
    "\n",
    "# Divião de valores \n",
    "for i in range(1, numero + 1) :\n",
    "    if numero % i == 0 :\n",
    "        divisores += 1\n",
    "\n",
    "\n",
    "\n",
    "# função para dizer se e ou não número primo \n",
    "if divisores == 2 :\n",
    "   print(f\"{numero} é um número primo. \")\n",
    "else:\n",
    "    print(f\"{numero} não é um número primo \")"
   ]
  },
  {
   "cell_type": "code",
   "execution_count": 37,
   "metadata": {},
   "outputs": [
    {
     "name": "stdout",
     "output_type": "stream",
     "text": [
      "A menor temperatura informada foi: 10.0°C\n",
      "A maior temperatura informada foi: 15.0°C\n",
      "A média das temperaturas informadas foi: 12.2°C\n"
     ]
    }
   ],
   "source": [
    "\n",
    "#11\n",
    "\n",
    "temperaturas = []\n",
    "\n",
    "for i in range(5):\n",
    "    \n",
    "    temp = float(input(f\"Digite a temperatura {i + 1} :\"))\n",
    "    temperaturas.append(temp)\n",
    "    #temperaturas \n",
    "    menor_temp = min(temperaturas)\n",
    "    maior_temp = max(temperaturas)\n",
    "    media_temp = sum(temperaturas) / len(temperaturas)\n",
    "    \n",
    "print(f\"A menor temperatura informada foi: {menor_temp}°C\")\n",
    "print(f\"A maior temperatura informada foi: {maior_temp}°C\")\n",
    "print(f\"A média das temperaturas informadas foi: {media_temp}°C\")"
   ]
  },
  {
   "cell_type": "code",
   "execution_count": 102,
   "metadata": {},
   "outputs": [
    {
     "name": "stdout",
     "output_type": "stream",
     "text": [
      "o seu saldo é de: 250.0 E o seu crédito é de: 50.0\n"
     ]
    }
   ],
   "source": [
    "\n",
    "#12\n",
    "\n",
    "saldoMedio = float(input(\"Digite o seu saldo médio\"))\n",
    "\n",
    "#saldo médio está entre 0 e 200?\n",
    "if saldoMedio >= 0 and saldoMedio <= 200:\n",
    "    print(\"nenhum crédito\")\n",
    "\n",
    "#Saldo médio está entre 201 e 400?\n",
    "elif saldoMedio >= 201 and saldoMedio <=400:\n",
    "    credito = saldoMedio *20/100\n",
    "    print(\"o seu saldo é de:\", saldoMedio,\"E o seu crédito é de:\", credito )\n",
    "\n",
    "#Saldo médio está entre 401 e 600?\n",
    "elif saldoMedio >= 401 and saldoMedio <=600:\n",
    "    credito = saldoMedio *30/100\n",
    "    print(\"o seu saldo é de:\", saldoMedio,\"E o seu crédito é de:\", credito )\n",
    "    \n",
    "#Saldo médio é igual a 601?\n",
    "elif saldoMedio == 601:\n",
    "     credito = saldoMedio * 40/100\n",
    "     print(\"o seu saldo é de:\", saldoMedio,\"E o seu crédito é de:\", credito )"
   ]
  },
  {
   "cell_type": "code",
   "execution_count": 40,
   "metadata": {},
   "outputs": [
    {
     "name": "stdout",
     "output_type": "stream",
     "text": [
      "Olá, rosa! Com 65 anos, você poderá se aposentar em 2024.\n"
     ]
    }
   ],
   "source": [
    "\n",
    "#14\n",
    "# aposentadoria \n",
    "nome = input(\"Digite seu nome: \")\n",
    "idade = int(input(\"Digite sua idade: \"))\n",
    "        \n",
    "ano_aposentadoria = 2024 + (65 - idade)\n",
    "print(f\"Olá, {nome}! Com {idade} anos, você poderá se aposentar em {ano_aposentadoria}.\")\n"
   ]
  },
  {
   "cell_type": "code",
   "execution_count": 112,
   "metadata": {},
   "outputs": [
    {
     "name": "stdout",
     "output_type": "stream",
     "text": [
      "O salário Bruto: R$ 2500.0\n",
      "O desconto do imposto de renda: R$ 187.5\n",
      "O desconto do Sindicato: R$ 75.0\n",
      "FGTS: R$ 275.0\n",
      "O salario líquido: R$ 2237.5\n"
     ]
    }
   ],
   "source": [
    "# muito complexo \n",
    "\n",
    "#15\n",
    "\n",
    "valorHora = float(input(\"Digite o valor da sua hora de trabalho\"))\n",
    "quantidadeHoras = float(input(\"Digite a quantidade de horas trabalhadas\"))\n",
    "\n",
    "\n",
    "\n",
    "salarioBruto = valorHora * quantidadeHoras\n",
    "\n",
    "\n",
    "if salarioBruto <= 2112.00:\n",
    " descontoDoIr = 0\n",
    "\n",
    "elif salarioBruto >= 2112.00 and salarioBruto <= 2826.65 : #desconto de 7.5\n",
    "    descontoDoIr = salarioBruto * 7.5/100\n",
    "\n",
    "elif salarioBruto >= 2826.66 and salarioBruto <= 3751.05: #desconto de 15%\n",
    "    descontoDoIr = salarioBruto * 15/100\n",
    "\n",
    "elif salarioBruto >= 3751.05 and salarioBruto <= 4664.68: #desconto de 22.5%\n",
    "   descontoDoIr = salarioBruto * 22.5/100\n",
    "\n",
    "elif salarioBruto >4664.68:\n",
    "   descontoDoIr = salarioBruto * 27/100\n",
    "\n",
    "\n",
    "descontoSindicato = salarioBruto * 3/100\n",
    "\n",
    "fgts = salarioBruto * 11/100\n",
    "   \n",
    "   \n",
    "salarioLiquido = salarioBruto - descontoDoIr - descontoSindicato\n",
    "\n",
    "print(\"O salário Bruto: R$\", salarioBruto) \n",
    "print(\"O desconto do imposto de renda: R$\", descontoDoIr) \n",
    "print(\"O desconto do Sindicato: R$\", descontoSindicato)\n",
    "print(\"FGTS: R$\", fgts)\n",
    "print(\"O salario líquido: R$\", salarioLiquido)"
   ]
  }
 ],
 "metadata": {
  "kernelspec": {
   "display_name": "Python 3",
   "language": "python",
   "name": "python3"
  },
  "language_info": {
   "codemirror_mode": {
    "name": "ipython",
    "version": 3
   },
   "file_extension": ".py",
   "mimetype": "text/x-python",
   "name": "python",
   "nbconvert_exporter": "python",
   "pygments_lexer": "ipython3",
   "version": "3.12.3"
  }
 },
 "nbformat": 4,
 "nbformat_minor": 2
}
